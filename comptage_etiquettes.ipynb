{
 "cells": [
  {
   "cell_type": "markdown",
   "metadata": {},
   "source": [
    "Compter dans le fichier Feuille Charline les indices dont on possède un fichier G"
   ]
  },
  {
   "cell_type": "code",
   "execution_count": 1,
   "metadata": {},
   "outputs": [],
   "source": [
    "import os\n",
    "import pandas as pd\n",
    "import re"
   ]
  },
  {
   "cell_type": "code",
   "execution_count": null,
   "metadata": {},
   "outputs": [],
   "source": [
    "#Chemins des dossiers (je travaille avec les données en local et je ne push que le jupyter notebook)\n",
    "\n",
    "dossier_facile = r\"\"\n",
    "dossier_difficile = r\"\"\n",
    "fichier_principal = r\"\""
   ]
  },
  {
   "cell_type": "code",
   "execution_count": 24,
   "metadata": {},
   "outputs": [
    {
     "name": "stdout",
     "output_type": "stream",
     "text": [
      "{'162', '147', '52', '79', '61', '140', '144', '99', '121', '157', '141', '62', '89', '148', '146', '88', '160', '47', '56', '135', '119', '98', '55', '131', '50', '80', '115', '145', '108', '82', '125', '66', '86', '110', '158', '45', '78', '85', '116', '64', '60', '84', '58', '70', '44', '53', '97', '71', '139', '46', '68', '69', '49', '65', '40', '87'}\n",
      "{'156', '104', '54', '132', '161', '78'}\n"
     ]
    }
   ],
   "source": [
    "# Récupérer tous les indice des fichiers G dans les deux dossiers et voir combien sont présents dans les deux\n",
    "\n",
    "def extraire_indices(dossier):\n",
    "    indices = set()\n",
    "    for fichier in os.listdir(dossier):\n",
    "        match = re.search(r'\\d+', fichier)  \n",
    "        if match:\n",
    "            indices.add(match.group())  \n",
    "    return indices\n",
    "\n",
    "indices_faciles = extraire_indices(dossier_facile)\n",
    "indices_difficiles = extraire_indices(dossier_difficile)\n",
    "\n",
    "print(indices_faciles)\n",
    "print(indices_difficiles)\n",
    "\n",
    "indices_existants = indices_faciles.union(indices_difficiles)\n"
   ]
  },
  {
   "cell_type": "code",
   "execution_count": 25,
   "metadata": {},
   "outputs": [
    {
     "name": "stdout",
     "output_type": "stream",
     "text": [
      "['104', '108', '110', '115', '116', '119', '121', '125', '131', '132', '135', '139', '140', '141', '144', '145', '146', '147', '148', '156', '157', '158', '160', '161', '162', '45', '46', '47', '49', '50', '52', '53', '54', '55', '56', '58', '61', '62', '64', '65', '66', '68', '69', '70', '71', '78', '79', '80', '82', '84', '85', '86', '87', '89', '97', '98']\n",
      "56\n"
     ]
    }
   ],
   "source": [
    "# Charger le fichier principal et récupérer les indices\n",
    "\n",
    "df = pd.read_csv(fichier_principal, sep=\";\", usecols=[0], encoding=\"latin1\") \n",
    "indices_principal = set(df[\"ID\"].dropna().astype(str))\n",
    "\n",
    "indices_match = sorted(indices_principal.intersection(indices_existants))\n",
    "\n",
    "print(indices_match)\n",
    "print(len(indices_match))"
   ]
  }
 ],
 "metadata": {
  "kernelspec": {
   "display_name": "Python 3",
   "language": "python",
   "name": "python3"
  },
  "language_info": {
   "codemirror_mode": {
    "name": "ipython",
    "version": 3
   },
   "file_extension": ".py",
   "mimetype": "text/x-python",
   "name": "python",
   "nbconvert_exporter": "python",
   "pygments_lexer": "ipython3",
   "version": "3.11.4"
  }
 },
 "nbformat": 4,
 "nbformat_minor": 2
}
